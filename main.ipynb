{
 "cells": [
  {
   "cell_type": "code",
   "execution_count": 48,
   "metadata": {},
   "outputs": [],
   "source": [
    "from typing import Iterable\n",
    "import jax.numpy as jnp\n",
    "import tensorflow_datasets as tfds\n",
    "import tensorflow as tf\n",
    "\n",
    "\n",
    "def transform_images(row, shape):\n",
    "    x_train = tf.image.resize_with_pad(row[\"image\"], shape[0], shape[1])\n",
    "\n",
    "    return {\"image\": x_train, \"label\": row[\"label\"]}\n",
    "\n",
    "\n",
    "def get_jnp_dataset(name: str, batch_size: int, img_shape: Iterable[int]):\n",
    "    \"\"\"\n",
    "    Load \"name\" train and test data into memory;\n",
    "    General Feature Structure:\n",
    "        FeaturesDict({\n",
    "            'image': Image(shape=(None, None, 3), dtype=tf.uint8),\n",
    "            'image/filename': Text(shape=(), dtype=tf.string),\n",
    "            'label': ClassLabel(shape=(), dtype=tf.int64, num_classes=2),\n",
    "        })\n",
    "    Note: This feature structure varies from dataset to dataset.\n",
    "    For more information, refer to:\n",
    "        https://www.tensorflow.org/datasets/catalog/overview\n",
    "    Returns:\n",
    "        Train and Test data with features_dict.\n",
    "    \"\"\"\n",
    "    dataset_builder = tfds.builder(name)\n",
    "    dataset_builder.download_and_prepare()\n",
    "\n",
    "    train_data = dataset_builder.as_dataset(split=\"train\")\n",
    "    train_data = train_data.map(lambda row: transform_images(row, img_shape))\n",
    "    train_data = train_data.repeat().cache().batch(batch_size)\n",
    "\n",
    "    test_data = dataset_builder.as_dataset(split=\"test\")\n",
    "    test_data = test_data.map(lambda row: transform_images(row, img_shape))\n",
    "    test_data = test_data.repeat().cache().batch(batch_size)\n",
    "\n",
    "    train_ds = tfds.as_numpy(train_data)\n",
    "    test_ds = tfds.as_numpy(test_data)\n",
    "\n",
    "    # train_ds[\"image\"] = jnp.float32(train_ds[\"image\"]) / 255.0\n",
    "    # test_ds[\"image\"] = jnp.float32(test_ds[\"image\"]) / 255.0\n",
    "\n",
    "    return train_ds, test_ds\n"
   ]
  }
 ],
 "metadata": {
  "kernelspec": {
   "display_name": "Python 3.9.12 ('jax-research')",
   "language": "python",
   "name": "python3"
  },
  "language_info": {
   "codemirror_mode": {
    "name": "ipython",
    "version": 3
   },
   "file_extension": ".py",
   "mimetype": "text/x-python",
   "name": "python",
   "nbconvert_exporter": "python",
   "pygments_lexer": "ipython3",
   "version": "3.9.12"
  },
  "orig_nbformat": 4,
  "vscode": {
   "interpreter": {
    "hash": "f7f34a25bdf326343d0e6de4c13ece535d8698d8da540a0e20723ae8e4ddf3e6"
   }
  }
 },
 "nbformat": 4,
 "nbformat_minor": 2
}
