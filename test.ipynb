{
 "cells": [
  {
   "cell_type": "code",
   "execution_count": 1,
   "metadata": {},
   "outputs": [],
   "source": [
    "from typing import Iterable\n",
    "import jax\n",
    "from flax import jax_utils\n",
    "import tensorflow_datasets as tfds\n",
    "import tensorflow as tf\n",
    "\n",
    "MEAN_RGB = [0.485 * 255, 0.456 * 255, 0.406 * 255]\n",
    "STDDEV_RGB = [0.229 * 255, 0.224 * 255, 0.225 * 255]\n",
    "\n",
    "\n",
    "def normalize_image(image):\n",
    "    image -= tf.constant(MEAN_RGB, shape=[1, 1, 3], dtype=image.dtype)\n",
    "    image /= tf.constant(STDDEV_RGB, shape=[1, 1, 3], dtype=image.dtype)\n",
    "    return image\n",
    "\n",
    "\n",
    "def transform_images(image_bytes, shape):\n",
    "    image = tf.image.resize_with_pad(image_bytes, shape[0], shape[1])\n",
    "    if image.shape[-1] == 1:\n",
    "        image = tf.image.grayscale_to_rgb(image)\n",
    "    image = normalize_image(image)\n",
    "    image = tf.image.convert_image_dtype(image, dtype=tf.float32)\n",
    "\n",
    "    return image\n",
    "\n",
    "\n",
    "def get_jnp_dataset(name, batch_size, img_shape, split):\n",
    "    \"\"\"\n",
    "    Load \"name\" train and test data into memory;\n",
    "    General Feature Structure:\n",
    "        FeaturesDict({\n",
    "            'image': Image(shape=(None, None, 3), dtype=tf.uint8),\n",
    "            'image/filename': Text(shape=(), dtype=tf.string),\n",
    "            'label': ClassLabel(shape=(), dtype=tf.int64, num_classes=2),\n",
    "        })\n",
    "    Note: This feature structure varies from dataset to dataset.\n",
    "    For more information, refer to:\n",
    "        https://www.tensorflow.org/datasets/catalog/overview\n",
    "    Returns:\n",
    "        Train and Test data with features_dict.\n",
    "    \"\"\"\n",
    "\n",
    "    def decode_example(example):\n",
    "        image = transform_images(example[\"image\"], img_shape)\n",
    "        return {\"image\": image, \"label\": example[\"label\"]}\n",
    "\n",
    "    dataset_builder = tfds.builder(name)\n",
    "    dataset_builder.download_and_prepare()\n",
    "    num_examples = dataset_builder.info.splits[split].num_examples\n",
    "    split_size = num_examples // jax.process_count()\n",
    "    start = jax.process_index() * split_size\n",
    "    split = f\"{split}[{start}:{start + split_size}]\"\n",
    "\n",
    "    dataset = dataset_builder.as_dataset(split=split)\n",
    "    dataset = dataset.map(\n",
    "        decode_example, num_parallel_calls=tf.data.experimental.AUTOTUNE\n",
    "    )\n",
    "    dataset = dataset.cache().repeat().batch(batch_size, drop_remainder=True)\n",
    "    dataset.prefetch(10)\n",
    "\n",
    "    return dataset, num_examples\n",
    "\n",
    "\n",
    "def prepare_tf_data(xs):\n",
    "    \"\"\"Convert a input batch from tf Tensors to numpy arrays.\"\"\"\n",
    "    local_device_count = jax.local_device_count()\n",
    "\n",
    "    def _prepare(x):\n",
    "        # Use _numpy() for zero-copy conversion between TF and NumPy.\n",
    "        x = x._numpy()  # pylint: disable=protected-access\n",
    "\n",
    "        # reshape (host_batch_size, height, width, 3) to\n",
    "        # (local_devices, device_batch_size, height, width, 3)\n",
    "        return x.reshape((local_device_count, -1) + x.shape[1:])\n",
    "\n",
    "    return jax.tree_util.tree_map(_prepare, xs)\n",
    "\n",
    "\n",
    "def create_iterator(name: str, batch_size: int, img_shape: Iterable[int], split: str):\n",
    "    \"\"\"\n",
    "    Creates an iterator on the basis of split string\n",
    "        and passes it onto device\n",
    "    \"\"\"\n",
    "    data, examples = get_jnp_dataset(name, batch_size, img_shape, split)\n",
    "    data_it = map(prepare_tf_data, data)\n",
    "    data_it = jax_utils.prefetch_to_device(data_it, 2)\n",
    "\n",
    "    return data_it, examples\n"
   ]
  },
  {
   "cell_type": "code",
   "execution_count": null,
   "metadata": {},
   "outputs": [],
   "source": [
    "data, info = create_iterator(\"mnist\", 64, [32, 32], \"test\")"
   ]
  },
  {
   "cell_type": "code",
   "execution_count": null,
   "metadata": {},
   "outputs": [],
   "source": [
    "for step, batch in zip(10, data):\n",
    "    print(batch[\"image\"].shape)"
   ]
  },
  {
   "cell_type": "code",
   "execution_count": null,
   "metadata": {},
   "outputs": [],
   "source": []
  }
 ],
 "metadata": {
  "kernelspec": {
   "display_name": "Python 3.9.12 ('jax-research')",
   "language": "python",
   "name": "python3"
  },
  "language_info": {
   "codemirror_mode": {
    "name": "ipython",
    "version": 3
   },
   "file_extension": ".py",
   "mimetype": "text/x-python",
   "name": "python",
   "nbconvert_exporter": "python",
   "pygments_lexer": "ipython3",
   "version": "3.9.12"
  },
  "orig_nbformat": 4,
  "vscode": {
   "interpreter": {
    "hash": "f7f34a25bdf326343d0e6de4c13ece535d8698d8da540a0e20723ae8e4ddf3e6"
   }
  }
 },
 "nbformat": 4,
 "nbformat_minor": 2
}
